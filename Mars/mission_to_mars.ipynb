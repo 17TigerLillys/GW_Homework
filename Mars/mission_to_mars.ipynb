{
 "cells": [
  {
   "cell_type": "code",
   "execution_count": 117,
   "metadata": {
    "collapsed": true
   },
   "outputs": [],
   "source": [
    "# Dependencies\n",
    "from bs4 import BeautifulSoup\n",
    "import requests\n",
    "from splinter import Browser"
   ]
  },
  {
   "cell_type": "code",
   "execution_count": 57,
   "metadata": {},
   "outputs": [],
   "source": [
    "url = 'https://mars.nasa.gov/news/'\n",
    "html = requests.get(url)\n",
    "# Create BeautifulSoup object; parse with 'html.parser'\n",
    "soup = BeautifulSoup(html.text, 'html.parser')\n",
    "results = soup.find_all('div', class_='content_title')"
   ]
  },
  {
   "cell_type": "code",
   "execution_count": 58,
   "metadata": {},
   "outputs": [
    {
     "name": "stdout",
     "output_type": "stream",
     "text": [
      "\n",
      "NASA Mars Rover Team's Tilted Winter Strategy Works\n",
      "\n"
     ]
    }
   ],
   "source": [
    "title = soup.find(\"div\", \"content_title\", \"a\").contents[1].string\n",
    "print(title)"
   ]
  },
  {
   "cell_type": "code",
   "execution_count": 59,
   "metadata": {},
   "outputs": [
    {
     "name": "stdout",
     "output_type": "stream",
     "text": [
      "\n",
      "NASA's senior Mars rover, Opportunity, has just passed the shortest-daylight weeks of the long Martian year with its solar panels in encouragingly clean condition for entering a potential dust-storm season in 2018.\r\n",
      "\r\n",
      "\n",
      "\n"
     ]
    }
   ],
   "source": [
    "paragraph = soup.find(\"div\", \"rollover_description_inner\").string\n",
    "print(paragraph)"
   ]
  },
  {
   "cell_type": "code",
   "execution_count": 61,
   "metadata": {},
   "outputs": [
    {
     "name": "stdout",
     "output_type": "stream",
     "text": [
      "https://www.jpl.nasa.gov/spaceimages/images/wallpaper/PIA18791-1920x1200.jpg\n"
     ]
    }
   ],
   "source": [
    "url =\"https://www.jpl.nasa.gov/spaceimages/?search=&category=Mars\"\n",
    "html = requests.get(url)\n",
    "soup = BeautifulSoup(html.text, 'html.parser')\n",
    "\n",
    "more_html = soup.find(\"div\", class_=\"carousel_items\").contents[1]\n",
    "half_of_link=more_html[\"style\"].split(\"url('\")\n",
    "half_of_link_clean=half_of_link[1].split(\"');\")[0]\n",
    "\n",
    "featured_image_url = \"https://www.jpl.nasa.gov\" + half_of_link_clean\n",
    "print(featured_image_url)"
   ]
  },
  {
   "cell_type": "code",
   "execution_count": 76,
   "metadata": {},
   "outputs": [],
   "source": [
    "url=\"https://twitter.com/marswxreport?lang=en\"\n",
    "html = requests.get(url)\n",
    "soup = BeautifulSoup(html.text, 'html.parser')"
   ]
  },
  {
   "cell_type": "code",
   "execution_count": 86,
   "metadata": {},
   "outputs": [
    {
     "name": "stdout",
     "output_type": "stream",
     "text": [
      "Sol 1917 (Dec 27, 2017), Sunny, high -19C/-2F, low -80C/-112F, pressure at 7.86 hPa, daylight 05:48-17:31\n"
     ]
    }
   ],
   "source": [
    "tweets=soup.find_all(\"p\", \"TweetTextSize\")\n",
    "\n",
    "for tweet in tweets:\n",
    "    if \"Sol\" in tweet.text:\n",
    "        mars_weather=tweet.text\n",
    "        break\n",
    "print(mars_weather)"
   ]
  },
  {
   "cell_type": "code",
   "execution_count": 87,
   "metadata": {},
   "outputs": [],
   "source": [
    "url=\"https://space-facts.com/mars/\"\n",
    "html = requests.get(url)\n",
    "soup = BeautifulSoup(html.text, 'html.parser')"
   ]
  },
  {
   "cell_type": "code",
   "execution_count": 96,
   "metadata": {},
   "outputs": [
    {
     "name": "stdout",
     "output_type": "stream",
     "text": [
      "Equatorial Diameter:\n",
      "Polar Diameter:\n",
      "Mass:\n",
      "Moons:\n",
      "Orbit Distance:\n",
      "Orbit Period:\n",
      "Surface Temperature: \n",
      "First Record:\n",
      "Recorded By:\n"
     ]
    }
   ],
   "source": [
    "columns=soup.find_all(\"td\", \"column-1\")\n",
    "column_1_list=[]\n",
    "for column in columns:\n",
    "    column_1_list.append(column.text)\n",
    "    print(column.text)"
   ]
  },
  {
   "cell_type": "code",
   "execution_count": 95,
   "metadata": {},
   "outputs": [
    {
     "name": "stdout",
     "output_type": "stream",
     "text": [
      "6,792 km\n",
      "\n",
      "6,752 km\n",
      "\n",
      "6.42 x 10^23 kg (10.7% Earth)\n",
      "2 (Phobos & Deimos)\n",
      "227,943,824 km (1.52 AU)\n",
      "687 days (1.9 years)\n",
      "\n",
      "-153 to 20 °C\n",
      "2nd millennium BC\n",
      "Egyptian astronomers\n"
     ]
    }
   ],
   "source": [
    "facts_columns=soup.find_all(\"td\", \"column-2\") \n",
    "column_fact_list=[]\n",
    "for fact in facts_columns:\n",
    "    column_fact_list.append(fact.text)\n",
    "    print(fact.text)"
   ]
  },
  {
   "cell_type": "code",
   "execution_count": 98,
   "metadata": {},
   "outputs": [],
   "source": [
    "mars_fact_df=pd.DataFrame({\"Info Type\": column_1_list, \"Info\": column_fact_list})"
   ]
  },
  {
   "cell_type": "code",
   "execution_count": 105,
   "metadata": {},
   "outputs": [
    {
     "data": {
      "text/html": [
       "<div>\n",
       "<style>\n",
       "    .dataframe thead tr:only-child th {\n",
       "        text-align: right;\n",
       "    }\n",
       "\n",
       "    .dataframe thead th {\n",
       "        text-align: left;\n",
       "    }\n",
       "\n",
       "    .dataframe tbody tr th {\n",
       "        vertical-align: top;\n",
       "    }\n",
       "</style>\n",
       "<table border=\"1\" class=\"dataframe\">\n",
       "  <thead>\n",
       "    <tr style=\"text-align: right;\">\n",
       "      <th></th>\n",
       "      <th>Info</th>\n",
       "    </tr>\n",
       "    <tr>\n",
       "      <th>Info Type</th>\n",
       "      <th></th>\n",
       "    </tr>\n",
       "  </thead>\n",
       "  <tbody>\n",
       "    <tr>\n",
       "      <th>Equatorial Diameter:</th>\n",
       "      <td>6,792 km\\n</td>\n",
       "    </tr>\n",
       "    <tr>\n",
       "      <th>Polar Diameter:</th>\n",
       "      <td>6,752 km\\n</td>\n",
       "    </tr>\n",
       "    <tr>\n",
       "      <th>Mass:</th>\n",
       "      <td>6.42 x 10^23 kg (10.7% Earth)</td>\n",
       "    </tr>\n",
       "    <tr>\n",
       "      <th>Moons:</th>\n",
       "      <td>2 (Phobos &amp; Deimos)</td>\n",
       "    </tr>\n",
       "    <tr>\n",
       "      <th>Orbit Distance:</th>\n",
       "      <td>227,943,824 km (1.52 AU)</td>\n",
       "    </tr>\n",
       "    <tr>\n",
       "      <th>Orbit Period:</th>\n",
       "      <td>687 days (1.9 years)\\n</td>\n",
       "    </tr>\n",
       "    <tr>\n",
       "      <th>Surface Temperature:</th>\n",
       "      <td>-153 to 20 °C</td>\n",
       "    </tr>\n",
       "    <tr>\n",
       "      <th>First Record:</th>\n",
       "      <td>2nd millennium BC</td>\n",
       "    </tr>\n",
       "    <tr>\n",
       "      <th>Recorded By:</th>\n",
       "      <td>Egyptian astronomers</td>\n",
       "    </tr>\n",
       "  </tbody>\n",
       "</table>\n",
       "</div>"
      ],
      "text/plain": [
       "                                                Info\n",
       "Info Type                                           \n",
       "Equatorial Diameter:                      6,792 km\\n\n",
       "Polar Diameter:                           6,752 km\\n\n",
       "Mass:                  6.42 x 10^23 kg (10.7% Earth)\n",
       "Moons:                           2 (Phobos & Deimos)\n",
       "Orbit Distance:             227,943,824 km (1.52 AU)\n",
       "Orbit Period:                 687 days (1.9 years)\\n\n",
       "Surface Temperature:                   -153 to 20 °C\n",
       "First Record:                      2nd millennium BC\n",
       "Recorded By:                    Egyptian astronomers"
      ]
     },
     "execution_count": 105,
     "metadata": {},
     "output_type": "execute_result"
    }
   ],
   "source": [
    "mars_fact_df=mars_fact_df[[\"Info Type\", \"Info\"]]\n",
    "mars_fact_df.set_index(\"Info Type\", inplace=True)\n",
    "mars_fact_df"
   ]
  },
  {
   "cell_type": "code",
   "execution_count": 108,
   "metadata": {
    "collapsed": true
   },
   "outputs": [],
   "source": [
    "mars_fact_table = mars_fact_df.to_html(classes='table',index=False,escape=False)"
   ]
  },
  {
   "cell_type": "code",
   "execution_count": 113,
   "metadata": {},
   "outputs": [
    {
     "data": {
      "text/plain": [
       "'<table border=\"1\" class=\"dataframe table\">\\n  <thead>\\n    <tr style=\"text-align: right;\">\\n      <th>Info</th>\\n    </tr>\\n  </thead>\\n  <tbody>\\n    <tr>\\n      <td>6,792 km\\\\n</td>\\n    </tr>\\n    <tr>\\n      <td>6,752 km\\\\n</td>\\n    </tr>\\n    <tr>\\n      <td>6.42 x 10^23 kg (10.7% Earth)</td>\\n    </tr>\\n    <tr>\\n      <td>2 (Phobos & Deimos)</td>\\n    </tr>\\n    <tr>\\n      <td>227,943,824 km (1.52 AU)</td>\\n    </tr>\\n    <tr>\\n      <td>687 days (1.9 years)\\\\n</td>\\n    </tr>\\n    <tr>\\n      <td>-153 to 20 °C</td>\\n    </tr>\\n    <tr>\\n      <td>2nd millennium BC</td>\\n    </tr>\\n    <tr>\\n      <td>Egyptian astronomers</td>\\n    </tr>\\n  </tbody>\\n</table>'"
      ]
     },
     "execution_count": 113,
     "metadata": {},
     "output_type": "execute_result"
    }
   ],
   "source": [
    "mars_fact_table"
   ]
  },
  {
   "cell_type": "code",
   "execution_count": 114,
   "metadata": {
    "collapsed": true
   },
   "outputs": [],
   "source": [
    "url=\"https://astropedia.astrogeology.usgs.gov/download/Mars/Viking/cerberus_enhanced.tif/full.jpg\"\n",
    "html = requests.get(url)\n",
    "soup = BeautifulSoup(html.text, 'html.parser')"
   ]
  },
  {
   "cell_type": "code",
   "execution_count": 136,
   "metadata": {
    "collapsed": true
   },
   "outputs": [],
   "source": [
    "executable_path = {'executable_path':'chromedriver'}\n",
    "browser = Browser('chrome', **executable_path) \n",
    "urls_list=[]\n",
    "url = \"https://astrogeology.usgs.gov/search/results?q=hemisphere+enhanced&k1=target&v1=Mars\"\n",
    "browser.visit(url)"
   ]
  },
  {
   "cell_type": "code",
   "execution_count": 137,
   "metadata": {},
   "outputs": [],
   "source": [
    "#valles marineris\n",
    "button = browser.find_link_by_partial_href(\"valles_marineris\")\n",
    "button.click()\n",
    "\n",
    "current_url = browser.url\n",
    "page = requests.get(current_url)\n",
    "soup = BeautifulSoup(page.text, 'html.parser')\n",
    "\n",
    "image_url = soup.find(id = \"wide-image\").contents[3]\n",
    "title = soup.find(\"h2\").string\n",
    "title=title.replace(\"Enhanced\", \"\")\n",
    "\n",
    "info = {\"title\": title, \"img_url\": \"https://astrogeology.usgs.gov\" + image_url['src']}\n",
    "urls_list.append(info)\n",
    "\n",
    "browser.back()"
   ]
  },
  {
   "cell_type": "code",
   "execution_count": 138,
   "metadata": {
    "collapsed": true
   },
   "outputs": [],
   "source": [
    "#cerberus\n",
    "button = browser.find_link_by_partial_href(\"cerberus\")\n",
    "button.click()\n",
    "\n",
    "current_url = browser.url\n",
    "page = requests.get(current_url)\n",
    "soup = BeautifulSoup(page.text, 'html.parser')\n",
    "\n",
    "image_url = soup.find(id = \"wide-image\").contents[3]\n",
    "title = soup.find(\"h2\").string\n",
    "title=title.replace(\"Enhanced\", \"\")\n",
    "\n",
    "info = {\"title\": title, \"img_url\": \"https://astrogeology.usgs.gov\" + image_url['src']}\n",
    "urls_list.append(info)\n",
    "\n",
    "browser.back()"
   ]
  },
  {
   "cell_type": "code",
   "execution_count": 139,
   "metadata": {
    "collapsed": true
   },
   "outputs": [],
   "source": [
    "#schiaparelli\n",
    "button = browser.find_link_by_partial_href(\"schiaparelli\")\n",
    "\n",
    "button.click()\n",
    "\n",
    "current_url = browser.url\n",
    "page = requests.get(current_url)\n",
    "soup = BeautifulSoup(page.text, 'html.parser')\n",
    "\n",
    "image_url = soup.find(id = \"wide-image\").contents[3]\n",
    "title = soup.find(\"h2\").string\n",
    "title=title.replace(\"Enhanced\", \"\")\n",
    "\n",
    "info = {\"title\": title, \"img_url\": \"https://astrogeology.usgs.gov\" + image_url['src']}\n",
    "urls_list.append(info)\n",
    "\n",
    "browser.back()"
   ]
  },
  {
   "cell_type": "code",
   "execution_count": 140,
   "metadata": {},
   "outputs": [],
   "source": [
    "#syrtis major\n",
    "button = browser.find_link_by_partial_href(\"syrtis_major\")\n",
    "button.click()\n",
    "\n",
    "current_url = browser.url\n",
    "page = requests.get(current_url)\n",
    "soup = BeautifulSoup(page.text, 'html.parser')\n",
    "\n",
    "image_url = soup.find(id = \"wide-image\").contents[3]\n",
    "title = soup.find(\"h2\").string\n",
    "title=title.replace(\"Enhanced\", \"\")\n",
    "\n",
    "info = {\"title\": title, \"img_url\": \"https://astrogeology.usgs.gov\" + image_url['src']}\n",
    "urls_list.append(info)\n",
    "\n",
    "browser.quit()"
   ]
  },
  {
   "cell_type": "code",
   "execution_count": 141,
   "metadata": {},
   "outputs": [
    {
     "data": {
      "text/plain": [
       "[{'img_url': 'https://astrogeology.usgs.gov/cache/images/7cf2da4bf549ed01c17f206327be4db7_valles_marineris_enhanced.tif_full.jpg',\n",
       "  'title': 'Valles Marineris Hemisphere '},\n",
       " {'img_url': 'https://astrogeology.usgs.gov/cache/images/cfa62af2557222a02478f1fcd781d445_cerberus_enhanced.tif_full.jpg',\n",
       "  'title': 'Cerberus Hemisphere '},\n",
       " {'img_url': 'https://astrogeology.usgs.gov/cache/images/3cdd1cbf5e0813bba925c9030d13b62e_schiaparelli_enhanced.tif_full.jpg',\n",
       "  'title': 'Schiaparelli Hemisphere '},\n",
       " {'img_url': 'https://astrogeology.usgs.gov/cache/images/ae209b4e408bb6c3e67b6af38168cf28_syrtis_major_enhanced.tif_full.jpg',\n",
       "  'title': 'Syrtis Major Hemisphere '}]"
      ]
     },
     "execution_count": 141,
     "metadata": {},
     "output_type": "execute_result"
    }
   ],
   "source": [
    "urls_list"
   ]
  },
  {
   "cell_type": "code",
   "execution_count": 63,
   "metadata": {},
   "outputs": [
    {
     "data": {
      "text/plain": [
       "\"for result in results:\\n    title = result.find('a').text\\n    print(title)\""
      ]
     },
     "execution_count": 63,
     "metadata": {},
     "output_type": "execute_result"
    }
   ],
   "source": [
    "'''for result in results:\n",
    "    title = result.find('a').text\n",
    "    print(title)'''"
   ]
  },
  {
   "cell_type": "code",
   "execution_count": null,
   "metadata": {
    "collapsed": true
   },
   "outputs": [],
   "source": [
    "'''for result in results:\n",
    "    # Retrieve the thread title\n",
    "    title = result.find('p', class_='title')\n",
    "    print(title)\n",
    "    # Access the thread's text content\n",
    "    title_text = title.a.text\n",
    "    # print(title_text)\n",
    "    # Access the thread with CSS selectors\n",
    "    thread = result.find('li', class_='first')\n",
    "    # The number of comments made in the thread\n",
    "    comments = thread.text.lstrip()\n",
    "    # Parse string, e.g. '47 comments' for possible numeric manipulation\n",
    "    if (' comments' in comments):\n",
    "        comments_num = comments.replace(' comments', '')\n",
    "        comments_num = int(comments_num)\n",
    "    else:\n",
    "        comments_num = comments.replace('comment', '')\n",
    "    # Access the href attribute with bracket notation\n",
    "    link = thread.a['href']\n",
    "    # Run if the thread has comments\n",
    "    if (comments_num):\n",
    "        print('\\n-----------------\\n')\n",
    "        print(title_text)\n",
    "        print('Comments:', comments_num)\n",
    "        print(link)"
   ]
  },
  {
   "cell_type": "code",
   "execution_count": null,
   "metadata": {
    "collapsed": true
   },
   "outputs": [],
   "source": []
  },
  {
   "cell_type": "code",
   "execution_count": null,
   "metadata": {
    "collapsed": true
   },
   "outputs": [],
   "source": []
  },
  {
   "cell_type": "code",
   "execution_count": 1,
   "metadata": {
    "collapsed": true
   },
   "outputs": [],
   "source": [
    "\"\"\"\n",
    "import time\n",
    "from splinter import Browser\n",
    "from bs4 import BeautifulSoup\n",
    "import pandas as pd\n",
    "from selenium import webdriver\"\"\""
   ]
  },
  {
   "cell_type": "code",
   "execution_count": 2,
   "metadata": {
    "collapsed": true
   },
   "outputs": [],
   "source": [
    "\"\"\"def init_browser():\n",
    "    # @NOTE: Replace the path with your actual path to the chromedriver\n",
    "    executable_path = {\"executable_path\": \"/usr/local/bin/chromedriver\"}\n",
    "    return Browser(\"chrome\", **executable_path, headless=False)"
   ]
  },
  {
   "cell_type": "code",
   "execution_count": 3,
   "metadata": {
    "collapsed": true
   },
   "outputs": [],
   "source": [
    "\"\"\"def scrape():\n",
    "    browser = init_browser()\n",
    "    listings = {}\n",
    "    url = \"https://raleigh.craigslist.org/search/hhh?max_price=1500&availabilityMode=0\"\n",
    "    browser.visit(url)\n",
    "    time.sleep(1)\n",
    "    html = browser.html\n",
    "    soup = BeautifulSoup(html, \"html.parser\")\n",
    "    listings[\"headline\"] = soup.find(\"a\", class_=\"result-title\").get_text()\n",
    "    listings[\"price\"] = soup.find(\"span\", class_=\"result-price\").get_text()\n",
    "    listings[\"hood\"] = soup.find(\"span\", class_=\"result-hood\").get_text()\n",
    "    return listings"
   ]
  },
  {
   "cell_type": "code",
   "execution_count": null,
   "metadata": {
    "collapsed": true
   },
   "outputs": [],
   "source": []
  }
 ],
 "metadata": {
  "kernelspec": {
   "display_name": "Python 3",
   "language": "python",
   "name": "python3"
  },
  "language_info": {
   "codemirror_mode": {
    "name": "ipython",
    "version": 3
   },
   "file_extension": ".py",
   "mimetype": "text/x-python",
   "name": "python",
   "nbconvert_exporter": "python",
   "pygments_lexer": "ipython3",
   "version": "3.6.3"
  }
 },
 "nbformat": 4,
 "nbformat_minor": 2
}
