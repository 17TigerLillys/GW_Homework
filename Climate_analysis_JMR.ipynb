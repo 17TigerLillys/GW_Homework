{
 "cells": [
  {
   "cell_type": "code",
   "execution_count": 78,
   "metadata": {
    "collapsed": true
   },
   "outputs": [],
   "source": [
    "import pandas as pd\n",
    "import matplotlib\n",
    "from matplotlib import pyplot as plt\n",
    "import numpy as np\n",
    "import seaborn as ssn\n",
    "import matplotlib.patches as mpatches\n",
    "import datadotworld as dw\n",
    "import os\n",
    "from sqlalchemy.ext.declarative import declarative_base\n",
    "from sqlalchemy import create_engine\n",
    "from sqlalchemy import Column, Integer, String, Float \n",
    "from sqlalchemy.ext.automap import automap_base\n",
    "from sqlalchemy.orm import Session\n",
    "from datetime import datetime, timedelta"
   ]
  },
  {
   "cell_type": "code",
   "execution_count": 2,
   "metadata": {
    "collapsed": true
   },
   "outputs": [],
   "source": [
    "#set up to reflect database\n",
    "Base = automap_base()\n",
    "engine = create_engine(\"sqlite:///hawaii.sqlite\")\n",
    "#reflect the database tables\n",
    "Base.prepare(engine, reflect=True)\n",
    "Station = Base.classes.station\n",
    "Measurement = Base.classes.measurement\n",
    "session = Session(engine)"
   ]
  },
  {
   "cell_type": "code",
   "execution_count": 3,
   "metadata": {},
   "outputs": [
    {
     "name": "stdout",
     "output_type": "stream",
     "text": [
      "When would you like to start your vaction?  Format MM-DD-YYYY 09-11-2018\n",
      "When would you like to end your vacation?  Format MM-DD-YYYY 09-15-2018\n"
     ]
    }
   ],
   "source": [
    "user_start_date=input(\"When would you like to start your vaction?  Format YYYY-MM-DD \")\n",
    "user_end_date=input(\"When would you like to end your vacation?  Format YYYY-MM-DD \")"
   ]
  },
  {
   "cell_type": "markdown",
   "metadata": {},
   "source": [
    "## Precipitation Analysis"
   ]
  },
  {
   "cell_type": "code",
   "execution_count": 72,
   "metadata": {},
   "outputs": [
    {
     "name": "stdout",
     "output_type": "stream",
     "text": [
      "2014-08-17\n"
     ]
    }
   ],
   "source": [
    "most_recent_date_query=session.query(Measurement.date).order_by(Measurement.date.desc()).first()\n",
    "most_recent_date=most_recent_date_query[0]\n",
    "most_recent_date=\"2015-08-17\"\n",
    "most_recent_date_split=most_recent_date.split(\"-\")\n",
    "year_before=str(int(most_recent_date_split[0])-1)\n",
    "one_year_earlier = year_before+'-'+most_recent_date_split[1]+'-'+most_recent_date_split[2]\n",
    "print(one_year_earlier)"
   ]
  },
  {
   "cell_type": "code",
   "execution_count": 5,
   "metadata": {
    "collapsed": true
   },
   "outputs": [],
   "source": [
    "precip_query=session.query(Measurement.date, Measurement.prcp).\\\n",
    "    filter(Measurement.date >= one_year_earlier).order_by(Measurement.date).all()"
   ]
  },
  {
   "cell_type": "code",
   "execution_count": null,
   "metadata": {},
   "outputs": [],
   "source": []
  },
  {
   "cell_type": "code",
   "execution_count": 6,
   "metadata": {
    "collapsed": true
   },
   "outputs": [],
   "source": [
    "precip_df = pd.DataFrame(precip_query, columns=[\"date\",\"prcp\"]) \n",
    "precip_df=precip_df.set_index(\"date\")"
   ]
  },
  {
   "cell_type": "code",
   "execution_count": 7,
   "metadata": {},
   "outputs": [
    {
     "data": {
      "text/html": [
       "<div>\n",
       "<style>\n",
       "    .dataframe thead tr:only-child th {\n",
       "        text-align: right;\n",
       "    }\n",
       "\n",
       "    .dataframe thead th {\n",
       "        text-align: left;\n",
       "    }\n",
       "\n",
       "    .dataframe tbody tr th {\n",
       "        vertical-align: top;\n",
       "    }\n",
       "</style>\n",
       "<table border=\"1\" class=\"dataframe\">\n",
       "  <thead>\n",
       "    <tr style=\"text-align: right;\">\n",
       "      <th></th>\n",
       "      <th>prcp</th>\n",
       "    </tr>\n",
       "    <tr>\n",
       "      <th>date</th>\n",
       "      <th></th>\n",
       "    </tr>\n",
       "  </thead>\n",
       "  <tbody>\n",
       "    <tr>\n",
       "      <th>2016-08-23</th>\n",
       "      <td>0.00</td>\n",
       "    </tr>\n",
       "    <tr>\n",
       "      <th>2016-08-23</th>\n",
       "      <td>0.15</td>\n",
       "    </tr>\n",
       "    <tr>\n",
       "      <th>2016-08-23</th>\n",
       "      <td>0.05</td>\n",
       "    </tr>\n",
       "    <tr>\n",
       "      <th>2016-08-23</th>\n",
       "      <td>0.00</td>\n",
       "    </tr>\n",
       "    <tr>\n",
       "      <th>2016-08-23</th>\n",
       "      <td>0.02</td>\n",
       "    </tr>\n",
       "  </tbody>\n",
       "</table>\n",
       "</div>"
      ],
      "text/plain": [
       "            prcp\n",
       "date            \n",
       "2016-08-23  0.00\n",
       "2016-08-23  0.15\n",
       "2016-08-23  0.05\n",
       "2016-08-23  0.00\n",
       "2016-08-23  0.02"
      ]
     },
     "execution_count": 7,
     "metadata": {},
     "output_type": "execute_result"
    }
   ],
   "source": [
    "precip_df.head()"
   ]
  },
  {
   "cell_type": "code",
   "execution_count": 8,
   "metadata": {},
   "outputs": [
    {
     "data": {
      "text/html": [
       "<div>\n",
       "<style>\n",
       "    .dataframe thead tr:only-child th {\n",
       "        text-align: right;\n",
       "    }\n",
       "\n",
       "    .dataframe thead th {\n",
       "        text-align: left;\n",
       "    }\n",
       "\n",
       "    .dataframe tbody tr th {\n",
       "        vertical-align: top;\n",
       "    }\n",
       "</style>\n",
       "<table border=\"1\" class=\"dataframe\">\n",
       "  <thead>\n",
       "    <tr style=\"text-align: right;\">\n",
       "      <th></th>\n",
       "      <th>prcp</th>\n",
       "    </tr>\n",
       "  </thead>\n",
       "  <tbody>\n",
       "    <tr>\n",
       "      <th>count</th>\n",
       "      <td>2230.000000</td>\n",
       "    </tr>\n",
       "    <tr>\n",
       "      <th>mean</th>\n",
       "      <td>0.160664</td>\n",
       "    </tr>\n",
       "    <tr>\n",
       "      <th>std</th>\n",
       "      <td>0.442067</td>\n",
       "    </tr>\n",
       "    <tr>\n",
       "      <th>min</th>\n",
       "      <td>0.000000</td>\n",
       "    </tr>\n",
       "    <tr>\n",
       "      <th>25%</th>\n",
       "      <td>0.000000</td>\n",
       "    </tr>\n",
       "    <tr>\n",
       "      <th>50%</th>\n",
       "      <td>0.010000</td>\n",
       "    </tr>\n",
       "    <tr>\n",
       "      <th>75%</th>\n",
       "      <td>0.110000</td>\n",
       "    </tr>\n",
       "    <tr>\n",
       "      <th>max</th>\n",
       "      <td>6.700000</td>\n",
       "    </tr>\n",
       "  </tbody>\n",
       "</table>\n",
       "</div>"
      ],
      "text/plain": [
       "              prcp\n",
       "count  2230.000000\n",
       "mean      0.160664\n",
       "std       0.442067\n",
       "min       0.000000\n",
       "25%       0.000000\n",
       "50%       0.010000\n",
       "75%       0.110000\n",
       "max       6.700000"
      ]
     },
     "execution_count": 8,
     "metadata": {},
     "output_type": "execute_result"
    }
   ],
   "source": [
    "precip_df.describe()"
   ]
  },
  {
   "cell_type": "code",
   "execution_count": 82,
   "metadata": {},
   "outputs": [
    {
     "data": {
      "image/png": "[encoded data removed]",
      "text/plain": [
       "<matplotlib.figure.Figure at 0x1a1ffb2710>"
      ]
     },
     "metadata": {},
     "output_type": "display_data"
    }
   ],
   "source": [
    "plt.figure(figsize=(12,4))\n",
    "plt.bar(precip_df.index, precip_df['prcp'])\n",
    "plt.title((\"Precipitation in Hawaii from %s to %s\") % (one_year_earlier, most_recent_date))\n",
    "plt.xlabel(\"Date\")\n",
    "plt.tight_layout()\n",
    "plt.ylabel(\"Precipitation\")\n",
    "plt.savefig(\"hawaii_prcipitation_graph.png\")\n",
    "plt.show()"
   ]
  },
  {
   "cell_type": "code",
   "execution_count": 10,
   "metadata": {},
   "outputs": [
    {
     "name": "stdout",
     "output_type": "stream",
     "text": [
      "There are 9 stations in Hawaii.\n"
     ]
    }
   ],
   "source": [
    "number_of_stations = session.query(Station.station_id).count()\n",
    "print(\"There are \" + str(number_of_stations) +\" stations in Hawaii.\")"
   ]
  },
  {
   "cell_type": "code",
   "execution_count": 102,
   "metadata": {},
   "outputs": [
    {
     "name": "stdout",
     "output_type": "stream",
     "text": [
      "[('USC00511918', 'HONOLULU OBSERVATORY 702.2, HI US'), ('USC00513117', 'KANEOHE 838.1, HI US'), ('USC00514830', 'KUALOA RANCH HEADQUARTERS 886.9, HI US'), ('USC00516128', 'MANOA LYON ARBO 785.2, HI US'), ('USC00517948', 'PEARL CITY, HI US'), ('USC00518838', 'UPPER WAHIAWA 874.3, HI US'), ('USC00519281', 'WAIHEE 837.5, HI US'), ('USC00519397', 'WAIKIKI 717.2, HI US'), ('USC00519523', 'WAIMANALO EXPERIMENTAL FARM, HI US')]\n"
     ]
    }
   ],
   "source": [
    "stations=session.query(Station.station, Station.name).group_by(Station.name).all()\n",
    "station_dict=dict(stations)\n",
    "print(stations[:])"
   ]
  },
  {
   "cell_type": "code",
   "execution_count": 35,
   "metadata": {},
   "outputs": [
    {
     "name": "stdout",
     "output_type": "stream",
     "text": [
      "USC00519281 WAIHEE 837.5, HI US 2772\n",
      "USC00519397 WAIKIKI 717.2, HI US 2724\n",
      "USC00513117 KANEOHE 838.1, HI US 2709\n",
      "USC00519523 WAIMANALO EXPERIMENTAL FARM, HI US 2669\n",
      "USC00516128 MANOA LYON ARBO 785.2, HI US 2612\n",
      "USC00514830 KUALOA RANCH HEADQUARTERS 886.9, HI US 2202\n",
      "USC00511918 HONOLULU OBSERVATORY 702.2, HI US 1979\n",
      "USC00517948 PEARL CITY, HI US 1372\n",
      "USC00518838 UPPER WAHIAWA 874.3, HI US 511\n"
     ]
    }
   ],
   "source": [
    "from sqlalchemy import func\n",
    "station_info=session.query(Measurement.station, func.count(Measurement.measurement_id)).group_by(Measurement.station).all()\n",
    "\n",
    "sorted_list=sorted(station_info, key=lambda x: x[1], reverse=True)\n",
    "for item in sorted_list:\n",
    "    print(item[0], station_dict[item[0]], item[1])"
   ]
  },
  {
   "cell_type": "code",
   "execution_count": 39,
   "metadata": {},
   "outputs": [
    {
     "name": "stdout",
     "output_type": "stream",
     "text": [
      "The station with the highest number of observations is:\n",
      "USC00519281 WAIHEE 837.5, HI US 2772\n"
     ]
    }
   ],
   "source": [
    "print(\"The station with the highest number of observations is:\")\n",
    "print(sorted_list[0][0], station_dict[sorted_list[0][0]], sorted_list[0][1])"
   ]
  },
  {
   "cell_type": "code",
   "execution_count": 48,
   "metadata": {},
   "outputs": [],
   "source": [
    "twelve_months = session.query(Measurement.date, Measurement.tobs).filter(Measurement.date >=one_year_earlier)\\\n",
    ".filter(Measurement.station==sorted_list[0][0]).all()\n"
   ]
  },
  {
   "cell_type": "code",
   "execution_count": 51,
   "metadata": {},
   "outputs": [],
   "source": [
    "x_values=[]\n",
    "for item in twelve_months:\n",
    "    x_values.append(item[1])"
   ]
  },
  {
   "cell_type": "code",
   "execution_count": 58,
   "metadata": {},
   "outputs": [
    {
     "data": {
      "image/png": "[encoded data removed]",
      "text/plain": [
       "<matplotlib.figure.Figure at 0x1a1f117668>"
      ]
     },
     "metadata": {},
     "output_type": "display_data"
    }
   ],
   "source": [
    "plt.hist(x_values, 12)\n",
    "plt.title(\"12 Months of Temperature Observations for %s\" % station_dict[sorted_list[0][0]])\n",
    "plt.xlabel(\"tobs\")\n",
    "plt.savefig(\"histogram_of_tobs.png\")\n",
    "plt.show()"
   ]
  },
  {
   "cell_type": "markdown",
   "metadata": {},
   "source": [
    "## Temperature Analysis"
   ]
  },
  {
   "cell_type": "code",
   "execution_count": 73,
   "metadata": {
    "collapsed": true
   },
   "outputs": [],
   "source": [
    "def mean(numbers):\n",
    "    return float(sum(numbers)) / max(len(numbers), 1)\n",
    "def year_before(date):\n",
    "    date_split=date.split(\"-\")\n",
    "    year_before=str(int(date_split[0])-1)\n",
    "    one_year_earlier = year_before+'-'+date_split[1]+'-'+date_split[2]\n",
    "    return one_year_earlier"
   ]
  },
  {
   "cell_type": "code",
   "execution_count": 83,
   "metadata": {},
   "outputs": [
    {
     "name": "stdout",
     "output_type": "stream",
     "text": [
      "When would you like to start your vaction?  Format YYYY-MM-DD 2018-06-03\n",
      "When would you like to end your vacation?  Format YYYY-MM-DD 2018-06-11\n"
     ]
    }
   ],
   "source": [
    "user_start_date=input(\"When would you like to start your vaction?  Format YYYY-MM-DD \")\n",
    "user_end_date=input(\"When would you like to end your vacation?  Format YYYY-MM-DD \")"
   ]
  },
  {
   "cell_type": "code",
   "execution_count": 75,
   "metadata": {},
   "outputs": [],
   "source": [
    "#start_date=\"2016-09-22\"\n",
    "#end_date=\"2016-09-27\"\n",
    "def calc_temps(desired_start_date, desired_end_date):\n",
    "    start_date=year_before(desired_start_date)\n",
    "    end_date=year_before(desired_end_date)\n",
    "    vacay_list = session.query(Measurement.tobs, Measurement.date).filter(Measurement.date>=start_date)\\\n",
    "        .filter(Measurement.date<=end_date).all()\n",
    "    vacay_temps_list = []\n",
    "    for item in vacay_list:\n",
    "        vacay_temps_list.append(item[0])\n",
    "    minimumn_temp = min(vacay_temps_list)\n",
    "    maximum_temp = max(vacay_temps_list)\n",
    "    average_temp = mean(vacay_temps_list)\n",
    "    return minimumn_temp, maximum_temp, average_temp"
   ]
  },
  {
   "cell_type": "code",
   "execution_count": 84,
   "metadata": {},
   "outputs": [
    {
     "name": "stdout",
     "output_type": "stream",
     "text": [
      "The minimum temperature is: 72\n",
      "The maximum temperature is: 81\n",
      "The average temperature is: 77.36206896551724\n"
     ]
    }
   ],
   "source": [
    "trip_min_temp, trip_max_temp, trip_avg_temp = calc_temps(user_start_date, user_end_date)\n",
    "print(\"The minimum temperature is: %s\" % str(trip_min_temp))\n",
    "print(\"The maximum temperature is: %s\" % str(trip_max_temp))\n",
    "print(\"The average temperature is: %s\" % str(trip_avg_temp))"
   ]
  },
  {
   "cell_type": "code",
   "execution_count": 96,
   "metadata": {},
   "outputs": [
    {
     "data": {
      "image/png": "[encoded data removed]",
      "text/plain": [
       "<matplotlib.figure.Figure at 0x1a21c9f240>"
      ]
     },
     "metadata": {},
     "output_type": "display_data"
    }
   ],
   "source": [
    "x_value=[1]\n",
    "plt.bar(x_value, trip_avg_temp, alpha=0.7, yerr=trip_max_temp-trip_min_temp, width=.5)\n",
    "plt.title(\"Hawaii Avg. Temps for %s to %s\" % (year_before(user_start_date), year_before(user_end_date)))\n",
    "plt.ylabel(\"Temperature (F)\")\n",
    "plt.grid(axis=\"y\", linestyle=\"dashed\")\n",
    "plt.tick_params(axis='x', bottom='off',labelbottom='off')\n",
    "plt.savefig(\"Hawaii_avg_temps.png\")\n",
    "plt.show()"
   ]
  },
  {
   "cell_type": "code",
   "execution_count": null,
   "metadata": {
    "collapsed": true
   },
   "outputs": [],
   "source": []
  }
 ],
 "metadata": {
  "kernelspec": {
   "display_name": "Python 3",
   "language": "python",
   "name": "python3"
  },
  "language_info": {
   "codemirror_mode": {
    "name": "ipython",
    "version": 3
   },
   "file_extension": ".py",
   "mimetype": "text/x-python",
   "name": "python",
   "nbconvert_exporter": "python",
   "pygments_lexer": "ipython3",
   "version": "3.6.3"
  }
 },
 "nbformat": 4,
 "nbformat_minor": 2
}
