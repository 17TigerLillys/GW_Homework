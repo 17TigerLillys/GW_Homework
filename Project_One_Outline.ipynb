{
 "cells": [
  {
   "cell_type": "markdown",
   "metadata": {},
   "source": [
    "### Movie Project: Working Title\n",
    "#### Tiwaa Bruks, Julie Richardson and Brendan Wiggins"
   ]
  },
  {
   "cell_type": "markdown",
   "metadata": {},
   "source": [
    "### Easy questions:\n",
    "* what is the most popular genre? (popular meaning rating)\n",
    "* the most popular movies?\n",
    "* the most profitable movie/genre"
   ]
  },
  {
   "cell_type": "markdown",
   "metadata": {},
   "source": [
    "### Medium Questions:\n",
    "* the most profitable director?\n",
    "* plotting revenue vs. release date (i.e. do summer movies or Christmas movies do better?)\n",
    "* plotting revenue vs. rating\n"
   ]
  },
  {
   "cell_type": "markdown",
   "metadata": {},
   "source": [
    "### Hard Questions:\n",
    "* do movies that come from books do better?\n",
    "* what about remakes?\n",
    "* what about sequels?  (we're guessing that first sequels do better than higher order sequels)\n",
    "* does the presense of a certain actor improve ratings?"
   ]
  },
  {
   "cell_type": "markdown",
   "metadata": {},
   "source": [
    " Then this is the dataset we're using: https://www.kaggle.com/rounakbanik/the-movies-dataset/data"
   ]
  },
  {
   "cell_type": "code",
   "execution_count": null,
   "metadata": {
    "collapsed": true
   },
   "outputs": [],
   "source": []
  }
 ],
 "metadata": {
  "kernelspec": {
   "display_name": "Python 3",
   "language": "python",
   "name": "python3"
  },
  "language_info": {
   "codemirror_mode": {
    "name": "ipython",
    "version": 3
   },
   "file_extension": ".py",
   "mimetype": "text/x-python",
   "name": "python",
   "nbconvert_exporter": "python",
   "pygments_lexer": "ipython3",
   "version": "3.6.1"
  }
 },
 "nbformat": 4,
 "nbformat_minor": 2
}
